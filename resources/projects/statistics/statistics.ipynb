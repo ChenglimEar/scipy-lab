{
 "cells": [
  {
   "cell_type": "markdown",
   "metadata": {},
   "source": [
    "# Statistics\n",
    "\n",
    "## Setup Environment"
   ]
  },
  {
   "cell_type": "code",
   "execution_count": 1,
   "metadata": {},
   "outputs": [],
   "source": [
    "import numpy as np\n",
    "from numpy import random\n",
    "import matplotlib.pyplot as plot\n",
    "import seaborn as sns\n",
    "from scipy.stats import pearsonr\n",
    "from scipy.stats import ttest_ind"
   ]
  },
  {
   "cell_type": "markdown",
   "metadata": {},
   "source": [
    "## Create a sample distribution from the normal distribution"
   ]
  },
  {
   "cell_type": "code",
   "execution_count": 2,
   "metadata": {},
   "outputs": [],
   "source": [
    "random.seed(1)\n",
    "dist_mean = 50\n",
    "dist_std = 5\n",
    "data = random.normal(loc=dist_mean, scale=dist_std, size=10000)"
   ]
  },
  {
   "cell_type": "markdown",
   "metadata": {},
   "source": [
    "## Get descriptive statistics for a gaussian distribution"
   ]
  },
  {
   "cell_type": "code",
   "execution_count": 5,
   "metadata": {},
   "outputs": [
    {
     "name": "stdout",
     "output_type": "stream",
     "text": [
      "Mean: 50.04886328349552\n",
      "Var: 24.93932903879117\n",
      "Std: 4.993929218440242\n"
     ]
    }
   ],
   "source": [
    "data_mean = np.mean(data)\n",
    "data_var = np.var(data)\n",
    "data_std = np.std(data)\n",
    "print(f\"Mean: {data_mean}\")\n",
    "print(f\"Var: {data_var}\")\n",
    "print(f\"Std: {data_std}\")"
   ]
  },
  {
   "cell_type": "markdown",
   "metadata": {},
   "source": [
    "## Graph distribution"
   ]
  },
  {
   "cell_type": "code",
   "execution_count": 6,
   "metadata": {},
   "outputs": [
    {
     "data": {
      "image/png": "[encoded data removed]",
      "text/plain": [
       "<Figure size 432x288 with 1 Axes>"
      ]
     },
     "metadata": {
      "needs_background": "light"
     },
     "output_type": "display_data"
    }
   ],
   "source": [
    "sns.distplot(data, hist=True)\n",
    "plot.show()"
   ]
  },
  {
   "cell_type": "markdown",
   "metadata": {},
   "source": [
    "## Look for correlation between two variables"
   ]
  },
  {
   "cell_type": "code",
   "execution_count": 7,
   "metadata": {},
   "outputs": [
    {
     "name": "stdout",
     "output_type": "stream",
     "text": [
      "Uncorr: 0.015684194608776077\n",
      "Corr: 0.9289858848783717\n"
     ]
    }
   ],
   "source": [
    "\n",
    "uncorr_data = random.normal(loc=10, scale=2, size=10000)\n",
    "corr_data = data + uncorr_data\n",
    "\n",
    "# Calculate Pearson's correlation\n",
    "corr1, p1 = pearsonr(data, uncorr_data)\n",
    "print(f\"Uncorr: {corr1}\")\n",
    "corr2, p2 = pearsonr(data, corr_data)\n",
    "print(f\"Corr: {corr2}\")\n",
    "\n"
   ]
  },
  {
   "cell_type": "markdown",
   "metadata": {},
   "source": [
    "## Test for significant difference using statistical hypothesis test"
   ]
  },
  {
   "cell_type": "code",
   "execution_count": 13,
   "metadata": {},
   "outputs": [
    {
     "name": "stdout",
     "output_type": "stream",
     "text": [
      "stats: stat=-13.826, p=0.000\n",
      "Significant difference.  Null hypothesis rejected.\n"
     ]
    }
   ],
   "source": [
    "diff_data = random.normal(loc=(dist_mean+1), scale=dist_std, size=10000)\n",
    "\n",
    "# Compare samples using t-test to test if means are significantly different\n",
    "stat, p = ttest_ind(data, diff_data)\n",
    "print(f\"stats: stat={stat:.3f}, p={p:.3f}\")\n",
    "\n",
    "alpha = 0.05\n",
    "if p > alpha:\n",
    "    print(\"No difference.  Null hypothesis holds.\")\n",
    "else:\n",
    "    print(\"Significant difference.  Null hypothesis rejected.\")"
   ]
  },
  {
   "cell_type": "code",
   "execution_count": null,
   "metadata": {},
   "outputs": [],
   "source": []
  }
 ],
 "metadata": {
  "kernelspec": {
   "display_name": "Python 3",
   "language": "python",
   "name": "python3"
  },
  "language_info": {
   "codemirror_mode": {
    "name": "ipython",
    "version": 3
   },
   "file_extension": ".py",
   "mimetype": "text/x-python",
   "name": "python",
   "nbconvert_exporter": "python",
   "pygments_lexer": "ipython3",
   "version": "3.8.5"
  }
 },
 "nbformat": 4,
 "nbformat_minor": 4
}
