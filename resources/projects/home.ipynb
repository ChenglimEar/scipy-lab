{
 "cells": [
  {
   "cell_type": "markdown",
   "metadata": {},
   "source": [
    "# Scipy Laboratory\n",
    "\n",
    "This laboratory consists of a Jupyter server with scikit-learn on it.\n",
    "\n",
    "Don't forget to shut down the laboratory when you are done so that you don't waste your machine resources:\n",
    "\n",
    "```\n",
    "docker-compose down\n",
    "```\n",
    "\n",
    "## Projects\n",
    "\n",
    "* TDB"
   ]
  },
  {
   "cell_type": "code",
   "execution_count": null,
   "metadata": {},
   "outputs": [],
   "source": []
  }
 ],
 "metadata": {
  "kernelspec": {
   "display_name": "Python 3",
   "language": "python",
   "name": "python3"
  },
  "language_info": {
   "codemirror_mode": {
    "name": "ipython",
    "version": 3
   },
   "file_extension": ".py",
   "mimetype": "text/x-python",
   "name": "python",
   "nbconvert_exporter": "python",
   "pygments_lexer": "ipython3",
   "version": "3.8.5"
  }
 },
 "nbformat": 4,
 "nbformat_minor": 4
}
